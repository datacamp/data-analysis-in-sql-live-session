{
  "nbformat": 4,
  "nbformat_minor": 0,
  "metadata": {
    "colab": {
      "name": "PostgreSQL_live_session_template.ipynb",
      "provenance": [],
      "include_colab_link": true
    },
    "kernelspec": {
      "name": "python3",
      "display_name": "Python 3"
    }
  },
  "cells": [
    {
      "cell_type": "markdown",
      "metadata": {
        "id": "view-in-github",
        "colab_type": "text"
      },
      "source": [
        "<a href=\"https://colab.research.google.com/github/datacamp/data-analysis-in-sql-live-training/blob/master/notebooks/PostgreSQL_live_session_template.ipynb\" target=\"_parent\"><img src=\"https://colab.research.google.com/assets/colab-badge.svg\" alt=\"Open In Colab\"/></a>"
      ]
    },
    {
      "cell_type": "markdown",
      "metadata": {
        "id": "tnjoHnXBnlof",
        "colab_type": "text"
      },
      "source": [
        "<p align=\"center\">\n",
        "<img src=\"https://github.com/datacamp/data-analysis-in-sql-live-session/blob/master/assets/datacamp.svg?raw=True\" alt = \"DataCamp icon\" width=\"50%\">\n",
        "</p>\n",
        "<br><br>\n",
        "\n",
        "## **Data Analysis with SQL**\n",
        "\n",
        "In this webinar, you'll learn how to write advanced queries to calculate core business metrics and KPIs. You'll be able to:\n",
        "\n",
        "* Use Common Table Expressions to temporarily store a query's results\n",
        "* Fetch values from different rows using window functinos\n",
        "* Use self-joins to peak into the future\n",
        "\n",
        "## **The Dataset**\n",
        "\n",
        "\n",
        "We'll use one table, `user_sessions`, which stores data user session data on a social media website. The table's schema is as follows:\n",
        "\n",
        "- `session_date`: The date on which the user accessed the site\n",
        "- `user_id`: The user's unique identifier\n",
        "- `time_spent_in_mins`: How much time the user spent on the site\n"
      ]
    },
    {
      "cell_type": "markdown",
      "metadata": {
        "id": "agoSpqYunxZ1",
        "colab_type": "text"
      },
      "source": [
        "## **Setting up PostgreSQL**"
      ]
    },
    {
      "cell_type": "code",
      "metadata": {
        "id": "WZ-Rqu2yoCzR",
        "colab_type": "code",
        "colab": {}
      },
      "source": [
        "#@title **This block of code will install PosgreSQL**\n",
        "%%capture\n",
        "!wget -qO- https://www.postgresql.org/media/keys/ACCC4CF8.asc | apt-key add -\n",
        "!echo \"deb http://apt.postgresql.org/pub/repos/apt/ bionic-pgdg main\" >/etc/apt/sources.list.d/pgdg.list\n",
        "!apt -qq update\n",
        "!apt -yq install postgresql-12 postgresql-client-12\n",
        "!service postgresql start\n",
        "# make calling psql shorter\n",
        "!sudo -u postgres psql -c \"CREATE USER root WITH SUPERUSER\"  \n",
        "!psql postgres -c \"CREATE DATABASE root\"  # now just !psql -c \"...\"\n",
        "# load SQL extensions\n",
        "%load_ext sql\n",
        "%config SqlMagic.feedback=False \n",
        "%config SqlMagic.autopandas=True\n",
        "%sql postgresql+psycopg2://@/postgres"
      ],
      "execution_count": 0,
      "outputs": []
    },
    {
      "cell_type": "code",
      "metadata": {
        "id": "5spm-fLTn7oP",
        "colab_type": "code",
        "colab": {}
      },
      "source": [
        "#@title **This will download your data to local environment**\n",
        "!wget -q https://github.com/datacamp/data-analysis-in-sql-live-training/raw/master/data/user_data.csv"
      ],
      "execution_count": 0,
      "outputs": []
    },
    {
      "cell_type": "code",
      "metadata": {
        "id": "4fiq0KKsokAX",
        "colab_type": "code",
        "outputId": "1a66de0b-411b-4070-b6b1-bab28d14a8aa",
        "colab": {
          "base_uri": "https://localhost:8080/",
          "height": 49
        }
      },
      "source": [
        "#@title **This will create your table**\n",
        "%%sql\n",
        "-- Make sure to amend you table name, column names and types\n",
        "DROP TABLE IF EXISTS user_sessions;\n",
        "CREATE TABLE user_sessions(\n",
        " session_date date,\n",
        " user_id int,\n",
        " time_spent_in_mins int\n",
        ");\n",
        "\n",
        "COPY user_sessions\n",
        "-- Make sure to point to correct file and delimiter \n",
        "FROM '/content/user_data.csv' DELIMITER ',' CSV HEADER;"
      ],
      "execution_count": 4,
      "outputs": [
        {
          "output_type": "stream",
          "text": [
            " * postgresql+psycopg2://@/postgres\n"
          ],
          "name": "stdout"
        },
        {
          "output_type": "execute_result",
          "data": {
            "text/html": [
              "<div>\n",
              "<style scoped>\n",
              "    .dataframe tbody tr th:only-of-type {\n",
              "        vertical-align: middle;\n",
              "    }\n",
              "\n",
              "    .dataframe tbody tr th {\n",
              "        vertical-align: top;\n",
              "    }\n",
              "\n",
              "    .dataframe thead th {\n",
              "        text-align: right;\n",
              "    }\n",
              "</style>\n",
              "<table border=\"1\" class=\"dataframe\">\n",
              "  <thead>\n",
              "    <tr style=\"text-align: right;\">\n",
              "      <th></th>\n",
              "    </tr>\n",
              "  </thead>\n",
              "  <tbody>\n",
              "  </tbody>\n",
              "</table>\n",
              "</div>"
            ],
            "text/plain": [
              "Empty DataFrame\n",
              "Columns: []\n",
              "Index: []"
            ]
          },
          "metadata": {
            "tags": []
          },
          "execution_count": 4
        }
      ]
    },
    {
      "cell_type": "markdown",
      "metadata": {
        "id": "tS_PlDcnNaaD",
        "colab_type": "text"
      },
      "source": [
        "Let's start by exploring the table."
      ]
    },
    {
      "cell_type": "code",
      "metadata": {
        "id": "KpFHkiwIo8KW",
        "colab_type": "code",
        "outputId": "f1eab063-6bb1-46fa-ac7a-288a2af13b93",
        "colab": {
          "base_uri": "https://localhost:8080/",
          "height": 221
        }
      },
      "source": [
        "%%sql\n",
        "\n",
        "-- SELECT first 5 rows\n",
        "\n",
        "SELECT *\n",
        "FROM user_sessions \n",
        "LIMIT 5;"
      ],
      "execution_count": 5,
      "outputs": [
        {
          "output_type": "stream",
          "text": [
            " * postgresql+psycopg2://@/postgres\n"
          ],
          "name": "stdout"
        },
        {
          "output_type": "execute_result",
          "data": {
            "text/html": [
              "<div>\n",
              "<style scoped>\n",
              "    .dataframe tbody tr th:only-of-type {\n",
              "        vertical-align: middle;\n",
              "    }\n",
              "\n",
              "    .dataframe tbody tr th {\n",
              "        vertical-align: top;\n",
              "    }\n",
              "\n",
              "    .dataframe thead th {\n",
              "        text-align: right;\n",
              "    }\n",
              "</style>\n",
              "<table border=\"1\" class=\"dataframe\">\n",
              "  <thead>\n",
              "    <tr style=\"text-align: right;\">\n",
              "      <th></th>\n",
              "      <th>session_date</th>\n",
              "      <th>user_id</th>\n",
              "      <th>time_spent_in_mins</th>\n",
              "    </tr>\n",
              "  </thead>\n",
              "  <tbody>\n",
              "    <tr>\n",
              "      <th>0</th>\n",
              "      <td>2020-01-01</td>\n",
              "      <td>1</td>\n",
              "      <td>127</td>\n",
              "    </tr>\n",
              "    <tr>\n",
              "      <th>1</th>\n",
              "      <td>2020-01-01</td>\n",
              "      <td>2</td>\n",
              "      <td>147</td>\n",
              "    </tr>\n",
              "    <tr>\n",
              "      <th>2</th>\n",
              "      <td>2020-01-01</td>\n",
              "      <td>5</td>\n",
              "      <td>106</td>\n",
              "    </tr>\n",
              "    <tr>\n",
              "      <th>3</th>\n",
              "      <td>2020-01-01</td>\n",
              "      <td>6</td>\n",
              "      <td>179</td>\n",
              "    </tr>\n",
              "    <tr>\n",
              "      <th>4</th>\n",
              "      <td>2020-01-01</td>\n",
              "      <td>7</td>\n",
              "      <td>143</td>\n",
              "    </tr>\n",
              "  </tbody>\n",
              "</table>\n",
              "</div>"
            ],
            "text/plain": [
              "  session_date  user_id  time_spent_in_mins\n",
              "0   2020-01-01        1                 127\n",
              "1   2020-01-01        2                 147\n",
              "2   2020-01-01        5                 106\n",
              "3   2020-01-01        6                 179\n",
              "4   2020-01-01        7                 143"
            ]
          },
          "metadata": {
            "tags": []
          },
          "execution_count": 5
        }
      ]
    },
    {
      "cell_type": "markdown",
      "metadata": {
        "id": "kExFC7LQccxC",
        "colab_type": "text"
      },
      "source": [
        "## Active users\n",
        "\n",
        "The active users KPI counts the active users of a company's app over a certain time period:\n",
        "- by day (daily active users, or DAU)\n",
        "- by month (monthly active users, or MAU)\n",
        "\n",
        "For example, Facebook had 1.76B DAU and 2.6 MAU in March.\n",
        "\n",
        "Stickiness (DAU / MAU) measures how often users engage with an app on average. Facebook's stickiness for March was `1.76B / 2.6B ~= 0.677`, meaning that, on average, users used Facebook for `67.7% x 30 days ~= 20` days each month."
      ]
    },
    {
      "cell_type": "code",
      "metadata": {
        "id": "9ko0H5pSmC-f",
        "colab_type": "code",
        "outputId": "574d814c-5370-47cd-a75c-be8f48f6e466",
        "colab": {
          "base_uri": "https://localhost:8080/",
          "height": 436
        }
      },
      "source": [
        "%%sql\n",
        "\n",
        "-- Calculate the Daily Active Users (DAU)\n",
        "\n",
        "SELECT DISTINCT\n",
        "  session_date,\n",
        "  COUNT(DISTINCT user_id) AS users\n",
        "FROM user_sessions\n",
        "GROUP BY session_date\n",
        "ORDER BY session_date ASC;"
      ],
      "execution_count": 6,
      "outputs": [
        {
          "output_type": "stream",
          "text": [
            " * postgresql+psycopg2://@/postgres\n"
          ],
          "name": "stdout"
        },
        {
          "output_type": "execute_result",
          "data": {
            "text/html": [
              "<div>\n",
              "<style scoped>\n",
              "    .dataframe tbody tr th:only-of-type {\n",
              "        vertical-align: middle;\n",
              "    }\n",
              "\n",
              "    .dataframe tbody tr th {\n",
              "        vertical-align: top;\n",
              "    }\n",
              "\n",
              "    .dataframe thead th {\n",
              "        text-align: right;\n",
              "    }\n",
              "</style>\n",
              "<table border=\"1\" class=\"dataframe\">\n",
              "  <thead>\n",
              "    <tr style=\"text-align: right;\">\n",
              "      <th></th>\n",
              "      <th>session_date</th>\n",
              "      <th>users</th>\n",
              "    </tr>\n",
              "  </thead>\n",
              "  <tbody>\n",
              "    <tr>\n",
              "      <th>0</th>\n",
              "      <td>2020-01-01</td>\n",
              "      <td>777</td>\n",
              "    </tr>\n",
              "    <tr>\n",
              "      <th>1</th>\n",
              "      <td>2020-01-02</td>\n",
              "      <td>755</td>\n",
              "    </tr>\n",
              "    <tr>\n",
              "      <th>2</th>\n",
              "      <td>2020-01-03</td>\n",
              "      <td>786</td>\n",
              "    </tr>\n",
              "    <tr>\n",
              "      <th>3</th>\n",
              "      <td>2020-01-04</td>\n",
              "      <td>760</td>\n",
              "    </tr>\n",
              "    <tr>\n",
              "      <th>4</th>\n",
              "      <td>2020-01-05</td>\n",
              "      <td>749</td>\n",
              "    </tr>\n",
              "    <tr>\n",
              "      <th>...</th>\n",
              "      <td>...</td>\n",
              "      <td>...</td>\n",
              "    </tr>\n",
              "    <tr>\n",
              "      <th>147</th>\n",
              "      <td>2020-05-27</td>\n",
              "      <td>1034</td>\n",
              "    </tr>\n",
              "    <tr>\n",
              "      <th>148</th>\n",
              "      <td>2020-05-28</td>\n",
              "      <td>1066</td>\n",
              "    </tr>\n",
              "    <tr>\n",
              "      <th>149</th>\n",
              "      <td>2020-05-29</td>\n",
              "      <td>1023</td>\n",
              "    </tr>\n",
              "    <tr>\n",
              "      <th>150</th>\n",
              "      <td>2020-05-30</td>\n",
              "      <td>1050</td>\n",
              "    </tr>\n",
              "    <tr>\n",
              "      <th>151</th>\n",
              "      <td>2020-05-31</td>\n",
              "      <td>1038</td>\n",
              "    </tr>\n",
              "  </tbody>\n",
              "</table>\n",
              "<p>152 rows × 2 columns</p>\n",
              "</div>"
            ],
            "text/plain": [
              "    session_date  users\n",
              "0     2020-01-01    777\n",
              "1     2020-01-02    755\n",
              "2     2020-01-03    786\n",
              "3     2020-01-04    760\n",
              "4     2020-01-05    749\n",
              "..           ...    ...\n",
              "147   2020-05-27   1034\n",
              "148   2020-05-28   1066\n",
              "149   2020-05-29   1023\n",
              "150   2020-05-30   1050\n",
              "151   2020-05-31   1038\n",
              "\n",
              "[152 rows x 2 columns]"
            ]
          },
          "metadata": {
            "tags": []
          },
          "execution_count": 6
        }
      ]
    },
    {
      "cell_type": "markdown",
      "metadata": {
        "id": "zkNmzkIHh-6e",
        "colab_type": "text"
      },
      "source": [
        "## Monthly active users\n",
        "\n",
        "Usually, reports include MAU, not DAU. How do you convert the session dates to months?\n",
        "\n",
        "### Enter `DATE_TRUNC`\n",
        "\n",
        "`DATE_TRUNC(date_part, date) → DATE`: Truncates `date` to the nearest `date_part`.\n",
        "\n",
        "#### Examples\n",
        "- `DATE_TRUNC('week', '2018-06-12') :: DATE → '2018-06-11'`\n",
        "- `DATE_TRUNC('month', '2018-06-12') :: DATE → '2018-06-01'`\n",
        "- `DATE_TRUNC('quarter', '2018-06-12') :: DATE → '2018-04-01'`\n",
        "- `DATE_TRUNC('year', '2018-06-12') :: DATE → '2018-01-01'`\n",
        "\n",
        "**Note**: `:: DATE` is just to remove the hours, minutes, and seconds."
      ]
    },
    {
      "cell_type": "code",
      "metadata": {
        "id": "VNsxnr0cmSLV",
        "colab_type": "code",
        "outputId": "a68d7960-f63a-43b5-dc55-a69ae00361bd",
        "colab": {
          "base_uri": "https://localhost:8080/",
          "height": 221
        }
      },
      "source": [
        "%%sql\n",
        "\n",
        "-- Calculate the Monthly Active Users (DAU)\n",
        "\n",
        "SELECT\n",
        "  DATE_TRUNC('month', session_date) :: DATE AS session_month,\n",
        "  COUNT(DISTINCT user_id) AS active_users\n",
        "FROM user_sessions\n",
        "GROUP BY session_month\n",
        "ORDER BY session_month ASC;"
      ],
      "execution_count": 7,
      "outputs": [
        {
          "output_type": "stream",
          "text": [
            " * postgresql+psycopg2://@/postgres\n"
          ],
          "name": "stdout"
        },
        {
          "output_type": "execute_result",
          "data": {
            "text/html": [
              "<div>\n",
              "<style scoped>\n",
              "    .dataframe tbody tr th:only-of-type {\n",
              "        vertical-align: middle;\n",
              "    }\n",
              "\n",
              "    .dataframe tbody tr th {\n",
              "        vertical-align: top;\n",
              "    }\n",
              "\n",
              "    .dataframe thead th {\n",
              "        text-align: right;\n",
              "    }\n",
              "</style>\n",
              "<table border=\"1\" class=\"dataframe\">\n",
              "  <thead>\n",
              "    <tr style=\"text-align: right;\">\n",
              "      <th></th>\n",
              "      <th>session_month</th>\n",
              "      <th>active_users</th>\n",
              "    </tr>\n",
              "  </thead>\n",
              "  <tbody>\n",
              "    <tr>\n",
              "      <th>0</th>\n",
              "      <td>2020-01-01</td>\n",
              "      <td>1472</td>\n",
              "    </tr>\n",
              "    <tr>\n",
              "      <th>1</th>\n",
              "      <td>2020-02-01</td>\n",
              "      <td>1621</td>\n",
              "    </tr>\n",
              "    <tr>\n",
              "      <th>2</th>\n",
              "      <td>2020-03-01</td>\n",
              "      <td>1723</td>\n",
              "    </tr>\n",
              "    <tr>\n",
              "      <th>3</th>\n",
              "      <td>2020-04-01</td>\n",
              "      <td>1879</td>\n",
              "    </tr>\n",
              "    <tr>\n",
              "      <th>4</th>\n",
              "      <td>2020-05-01</td>\n",
              "      <td>1995</td>\n",
              "    </tr>\n",
              "  </tbody>\n",
              "</table>\n",
              "</div>"
            ],
            "text/plain": [
              "  session_month  active_users\n",
              "0    2020-01-01          1472\n",
              "1    2020-02-01          1621\n",
              "2    2020-03-01          1723\n",
              "3    2020-04-01          1879\n",
              "4    2020-05-01          1995"
            ]
          },
          "metadata": {
            "tags": []
          },
          "execution_count": 7
        }
      ]
    },
    {
      "cell_type": "markdown",
      "metadata": {
        "id": "Mig_YapOkBpv",
        "colab_type": "text"
      },
      "source": [
        "## Registered users\n",
        "\n",
        "What if you want to use a query's results in another query? Let's define the user's registration date as the date of that user's first session.\n",
        "\n",
        "Your goal here is to calculate the growth in registrations; the growth rate of new users is another important KPI for platforms."
      ]
    },
    {
      "cell_type": "code",
      "metadata": {
        "id": "9yyYTFcWkXCq",
        "colab_type": "code",
        "colab": {
          "base_uri": "https://localhost:8080/",
          "height": 436
        },
        "outputId": "b90cf5e0-6dfa-4810-f7e0-3e77d519ee84"
      },
      "source": [
        "%%sql\n",
        "\n",
        "-- Get each user's registration date\n",
        "\n",
        "SELECT\n",
        "  user_id,\n",
        "  MIN(session_date) AS reg_date\n",
        "FROM user_sessions\n",
        "GROUP BY user_id\n",
        "ORDER BY reg_date ASC, user_id ASC;"
      ],
      "execution_count": 8,
      "outputs": [
        {
          "output_type": "stream",
          "text": [
            " * postgresql+psycopg2://@/postgres\n"
          ],
          "name": "stdout"
        },
        {
          "output_type": "execute_result",
          "data": {
            "text/html": [
              "<div>\n",
              "<style scoped>\n",
              "    .dataframe tbody tr th:only-of-type {\n",
              "        vertical-align: middle;\n",
              "    }\n",
              "\n",
              "    .dataframe tbody tr th {\n",
              "        vertical-align: top;\n",
              "    }\n",
              "\n",
              "    .dataframe thead th {\n",
              "        text-align: right;\n",
              "    }\n",
              "</style>\n",
              "<table border=\"1\" class=\"dataframe\">\n",
              "  <thead>\n",
              "    <tr style=\"text-align: right;\">\n",
              "      <th></th>\n",
              "      <th>user_id</th>\n",
              "      <th>reg_date</th>\n",
              "    </tr>\n",
              "  </thead>\n",
              "  <tbody>\n",
              "    <tr>\n",
              "      <th>0</th>\n",
              "      <td>1</td>\n",
              "      <td>2020-01-01</td>\n",
              "    </tr>\n",
              "    <tr>\n",
              "      <th>1</th>\n",
              "      <td>2</td>\n",
              "      <td>2020-01-01</td>\n",
              "    </tr>\n",
              "    <tr>\n",
              "      <th>2</th>\n",
              "      <td>5</td>\n",
              "      <td>2020-01-01</td>\n",
              "    </tr>\n",
              "    <tr>\n",
              "      <th>3</th>\n",
              "      <td>6</td>\n",
              "      <td>2020-01-01</td>\n",
              "    </tr>\n",
              "    <tr>\n",
              "      <th>4</th>\n",
              "      <td>7</td>\n",
              "      <td>2020-01-01</td>\n",
              "    </tr>\n",
              "    <tr>\n",
              "      <th>...</th>\n",
              "      <td>...</td>\n",
              "      <td>...</td>\n",
              "    </tr>\n",
              "    <tr>\n",
              "      <th>2056</th>\n",
              "      <td>1953</td>\n",
              "      <td>2020-05-11</td>\n",
              "    </tr>\n",
              "    <tr>\n",
              "      <th>2057</th>\n",
              "      <td>2051</td>\n",
              "      <td>2020-05-11</td>\n",
              "    </tr>\n",
              "    <tr>\n",
              "      <th>2058</th>\n",
              "      <td>1969</td>\n",
              "      <td>2020-05-13</td>\n",
              "    </tr>\n",
              "    <tr>\n",
              "      <th>2059</th>\n",
              "      <td>2040</td>\n",
              "      <td>2020-05-15</td>\n",
              "    </tr>\n",
              "    <tr>\n",
              "      <th>2060</th>\n",
              "      <td>1946</td>\n",
              "      <td>2020-05-16</td>\n",
              "    </tr>\n",
              "  </tbody>\n",
              "</table>\n",
              "<p>2061 rows × 2 columns</p>\n",
              "</div>"
            ],
            "text/plain": [
              "      user_id    reg_date\n",
              "0           1  2020-01-01\n",
              "1           2  2020-01-01\n",
              "2           5  2020-01-01\n",
              "3           6  2020-01-01\n",
              "4           7  2020-01-01\n",
              "...       ...         ...\n",
              "2056     1953  2020-05-11\n",
              "2057     2051  2020-05-11\n",
              "2058     1969  2020-05-13\n",
              "2059     2040  2020-05-15\n",
              "2060     1946  2020-05-16\n",
              "\n",
              "[2061 rows x 2 columns]"
            ]
          },
          "metadata": {
            "tags": []
          },
          "execution_count": 8
        }
      ]
    },
    {
      "cell_type": "markdown",
      "metadata": {
        "id": "2N_xwF7Yup2b",
        "colab_type": "text"
      },
      "source": [
        "### Common Table Expressions (CTEs)\n",
        "\n",
        "Now that you have each user's registration date, you'll want to store the results somehow to use them in a different query. How do you do that?\n",
        "\n",
        "```sql\n",
        "WITH cte_name AS (\n",
        "  ...\n",
        ")\n",
        "\n",
        "SELECT *\n",
        "FROM cte_name;\n",
        "```\n",
        "\n",
        "A CTE stores the results of a query temporarily in the specificed `cte_name` so it can be used in the outer query later on."
      ]
    },
    {
      "cell_type": "code",
      "metadata": {
        "id": "nFfDu_aQm9dD",
        "colab_type": "code",
        "outputId": "ba0e1154-a26f-4f9b-dd0d-7bdb9b521df9",
        "colab": {
          "base_uri": "https://localhost:8080/",
          "height": 221
        }
      },
      "source": [
        "%%sql\n",
        "\n",
        "-- Store each user's registration date in the regs CTE\n",
        "-- Calculate the number of registrations per month\n",
        "\n",
        "WITH regs AS (\n",
        "  SELECT\n",
        "    user_id,\n",
        "    MIN(session_date) AS reg_date\n",
        "  FROM user_sessions\n",
        "  GROUP BY user_id)\n",
        "\n",
        "SELECT\n",
        "  DATE_TRUNC('month', reg_date) :: DATE AS reg_month,\n",
        "  COUNT(DISTINCT user_id) AS users\n",
        "FROM regs\n",
        "GROUP BY reg_month\n",
        "ORDER BY reg_month ASC;"
      ],
      "execution_count": 10,
      "outputs": [
        {
          "output_type": "stream",
          "text": [
            " * postgresql+psycopg2://@/postgres\n"
          ],
          "name": "stdout"
        },
        {
          "output_type": "execute_result",
          "data": {
            "text/html": [
              "<div>\n",
              "<style scoped>\n",
              "    .dataframe tbody tr th:only-of-type {\n",
              "        vertical-align: middle;\n",
              "    }\n",
              "\n",
              "    .dataframe tbody tr th {\n",
              "        vertical-align: top;\n",
              "    }\n",
              "\n",
              "    .dataframe thead th {\n",
              "        text-align: right;\n",
              "    }\n",
              "</style>\n",
              "<table border=\"1\" class=\"dataframe\">\n",
              "  <thead>\n",
              "    <tr style=\"text-align: right;\">\n",
              "      <th></th>\n",
              "      <th>reg_month</th>\n",
              "      <th>users</th>\n",
              "    </tr>\n",
              "  </thead>\n",
              "  <tbody>\n",
              "    <tr>\n",
              "      <th>0</th>\n",
              "      <td>2020-01-01</td>\n",
              "      <td>1472</td>\n",
              "    </tr>\n",
              "    <tr>\n",
              "      <th>1</th>\n",
              "      <td>2020-02-01</td>\n",
              "      <td>166</td>\n",
              "    </tr>\n",
              "    <tr>\n",
              "      <th>2</th>\n",
              "      <td>2020-03-01</td>\n",
              "      <td>147</td>\n",
              "    </tr>\n",
              "    <tr>\n",
              "      <th>3</th>\n",
              "      <td>2020-04-01</td>\n",
              "      <td>152</td>\n",
              "    </tr>\n",
              "    <tr>\n",
              "      <th>4</th>\n",
              "      <td>2020-05-01</td>\n",
              "      <td>124</td>\n",
              "    </tr>\n",
              "  </tbody>\n",
              "</table>\n",
              "</div>"
            ],
            "text/plain": [
              "    reg_month  users\n",
              "0  2020-01-01   1472\n",
              "1  2020-02-01    166\n",
              "2  2020-03-01    147\n",
              "3  2020-04-01    152\n",
              "4  2020-05-01    124"
            ]
          },
          "metadata": {
            "tags": []
          },
          "execution_count": 10
        }
      ]
    },
    {
      "cell_type": "markdown",
      "metadata": {
        "id": "txxa2OVBvuYW",
        "colab_type": "text"
      },
      "source": [
        "## Growth and window functions\n",
        "\n",
        "You now have each month's registrations. How do you calculate growth?\n",
        "\n",
        "`Growth = (Current month - previous month) / previous month`\n",
        "\n",
        "For example, if you had 122 registrations last month, and you have 156 registrations this month, your registrations grew by `(156 - 122) / 122 ~= 28%` this month.\n",
        "\n",
        "So you need both the previous and the current months' registrations in the same row. How do you do that?\n",
        "\n",
        "### Window functions\n",
        "\n",
        "A window function performs some operation across a set of table rows that are somehow related to the current row.\n",
        "\n",
        "- `LAG(column_a, 1) OVER (ORDER BY column_b ASC)` Gets the previous row's value in `column_a` if you sort by `column_b`."
      ]
    },
    {
      "cell_type": "code",
      "metadata": {
        "id": "BKg-pJpjoS4F",
        "colab_type": "code",
        "outputId": "1187d28d-e3c1-4521-eb18-01fff81c65af",
        "colab": {
          "base_uri": "https://localhost:8080/",
          "height": 221
        }
      },
      "source": [
        "%%sql\n",
        "-- Fetch the previous and current months' MAUs\n",
        "\n",
        "\n",
        "WITH regs AS (\n",
        "  SELECT\n",
        "    user_id,\n",
        "    MIN(session_date) AS reg_date\n",
        "  FROM user_sessions\n",
        "  GROUP BY user_id),\n",
        "\n",
        "  regs_per_month AS (\n",
        "    SELECT\n",
        "      DATE_TRUNC('month', reg_date) :: DATE AS reg_month,\n",
        "      COUNT(DISTINCT user_id) AS users\n",
        "    FROM regs\n",
        "    GROUP BY reg_month\n",
        "  )\n",
        "\n",
        "SELECT\n",
        "  reg_month,\n",
        "  users,\n",
        "  LAG(users, 1) OVER (ORDER BY regs_per_month ASC) AS previous_users\n",
        "FROM regs_per_month\n",
        "ORDER BY reg_month ASC;"
      ],
      "execution_count": 14,
      "outputs": [
        {
          "output_type": "stream",
          "text": [
            " * postgresql+psycopg2://@/postgres\n"
          ],
          "name": "stdout"
        },
        {
          "output_type": "execute_result",
          "data": {
            "text/html": [
              "<div>\n",
              "<style scoped>\n",
              "    .dataframe tbody tr th:only-of-type {\n",
              "        vertical-align: middle;\n",
              "    }\n",
              "\n",
              "    .dataframe tbody tr th {\n",
              "        vertical-align: top;\n",
              "    }\n",
              "\n",
              "    .dataframe thead th {\n",
              "        text-align: right;\n",
              "    }\n",
              "</style>\n",
              "<table border=\"1\" class=\"dataframe\">\n",
              "  <thead>\n",
              "    <tr style=\"text-align: right;\">\n",
              "      <th></th>\n",
              "      <th>reg_month</th>\n",
              "      <th>users</th>\n",
              "      <th>previous_users</th>\n",
              "    </tr>\n",
              "  </thead>\n",
              "  <tbody>\n",
              "    <tr>\n",
              "      <th>0</th>\n",
              "      <td>2020-01-01</td>\n",
              "      <td>1472</td>\n",
              "      <td>NaN</td>\n",
              "    </tr>\n",
              "    <tr>\n",
              "      <th>1</th>\n",
              "      <td>2020-02-01</td>\n",
              "      <td>166</td>\n",
              "      <td>1472.0</td>\n",
              "    </tr>\n",
              "    <tr>\n",
              "      <th>2</th>\n",
              "      <td>2020-03-01</td>\n",
              "      <td>147</td>\n",
              "      <td>166.0</td>\n",
              "    </tr>\n",
              "    <tr>\n",
              "      <th>3</th>\n",
              "      <td>2020-04-01</td>\n",
              "      <td>152</td>\n",
              "      <td>147.0</td>\n",
              "    </tr>\n",
              "    <tr>\n",
              "      <th>4</th>\n",
              "      <td>2020-05-01</td>\n",
              "      <td>124</td>\n",
              "      <td>152.0</td>\n",
              "    </tr>\n",
              "  </tbody>\n",
              "</table>\n",
              "</div>"
            ],
            "text/plain": [
              "    reg_month  users  previous_users\n",
              "0  2020-01-01   1472             NaN\n",
              "1  2020-02-01    166          1472.0\n",
              "2  2020-03-01    147           166.0\n",
              "3  2020-04-01    152           147.0\n",
              "4  2020-05-01    124           152.0"
            ]
          },
          "metadata": {
            "tags": []
          },
          "execution_count": 14
        }
      ]
    },
    {
      "cell_type": "markdown",
      "metadata": {
        "id": "JFNbQqVjyyvn",
        "colab_type": "text"
      },
      "source": [
        "Store the results in a CTE and apply the formula to get the monthly registrations growth rates. You can use `COALESCE(..., 1)` to convert any `NULL` values to 1."
      ]
    },
    {
      "cell_type": "code",
      "metadata": {
        "id": "teCiC7UOpPfi",
        "colab_type": "code",
        "outputId": "80086589-4bd3-48bb-b913-d36215a2be41",
        "colab": {
          "base_uri": "https://localhost:8080/",
          "height": 221
        }
      },
      "source": [
        "%%sql\n",
        "\n",
        "-- Calculate the monthly growth in registrations\n",
        "\n",
        "WITH regs AS (\n",
        "  SELECT\n",
        "    user_id,\n",
        "    MIN(session_date) AS reg_date\n",
        "  FROM user_sessions\n",
        "  GROUP BY user_id),\n",
        "\n",
        "  regs_per_month AS (\n",
        "    SELECT\n",
        "      DATE_TRUNC('month', reg_date) :: DATE AS reg_month,\n",
        "      COUNT(DISTINCT user_id) AS users\n",
        "    FROM regs\n",
        "    GROUP BY reg_month\n",
        "  ),\n",
        "\n",
        "  lag_regs AS (\n",
        "    SELECT\n",
        "      reg_month,\n",
        "      users,\n",
        "      COALESCE(\n",
        "        LAG(users, 1) OVER (ORDER BY regs_per_month ASC), 1\n",
        "      ) AS previous_users\n",
        "    FROM regs_per_month)\n",
        "\n",
        "SELECT\n",
        "  reg_month,\n",
        "  users,\n",
        "  ROUND(\n",
        "      (users - previous_users) :: NUMERIC / previous_users, 3\n",
        "  ) AS growth_rate\n",
        "FROM lag_regs\n",
        "ORDER BY reg_month ASC;"
      ],
      "execution_count": 18,
      "outputs": [
        {
          "output_type": "stream",
          "text": [
            " * postgresql+psycopg2://@/postgres\n"
          ],
          "name": "stdout"
        },
        {
          "output_type": "execute_result",
          "data": {
            "text/html": [
              "<div>\n",
              "<style scoped>\n",
              "    .dataframe tbody tr th:only-of-type {\n",
              "        vertical-align: middle;\n",
              "    }\n",
              "\n",
              "    .dataframe tbody tr th {\n",
              "        vertical-align: top;\n",
              "    }\n",
              "\n",
              "    .dataframe thead th {\n",
              "        text-align: right;\n",
              "    }\n",
              "</style>\n",
              "<table border=\"1\" class=\"dataframe\">\n",
              "  <thead>\n",
              "    <tr style=\"text-align: right;\">\n",
              "      <th></th>\n",
              "      <th>reg_month</th>\n",
              "      <th>users</th>\n",
              "      <th>growth_rate</th>\n",
              "    </tr>\n",
              "  </thead>\n",
              "  <tbody>\n",
              "    <tr>\n",
              "      <th>0</th>\n",
              "      <td>2020-01-01</td>\n",
              "      <td>1472</td>\n",
              "      <td>1471.000</td>\n",
              "    </tr>\n",
              "    <tr>\n",
              "      <th>1</th>\n",
              "      <td>2020-02-01</td>\n",
              "      <td>166</td>\n",
              "      <td>-0.887</td>\n",
              "    </tr>\n",
              "    <tr>\n",
              "      <th>2</th>\n",
              "      <td>2020-03-01</td>\n",
              "      <td>147</td>\n",
              "      <td>-0.114</td>\n",
              "    </tr>\n",
              "    <tr>\n",
              "      <th>3</th>\n",
              "      <td>2020-04-01</td>\n",
              "      <td>152</td>\n",
              "      <td>0.034</td>\n",
              "    </tr>\n",
              "    <tr>\n",
              "      <th>4</th>\n",
              "      <td>2020-05-01</td>\n",
              "      <td>124</td>\n",
              "      <td>-0.184</td>\n",
              "    </tr>\n",
              "  </tbody>\n",
              "</table>\n",
              "</div>"
            ],
            "text/plain": [
              "    reg_month  users growth_rate\n",
              "0  2020-01-01   1472    1471.000\n",
              "1  2020-02-01    166      -0.887\n",
              "2  2020-03-01    147      -0.114\n",
              "3  2020-04-01    152       0.034\n",
              "4  2020-05-01    124      -0.184"
            ]
          },
          "metadata": {
            "tags": []
          },
          "execution_count": 18
        }
      ]
    },
    {
      "cell_type": "markdown",
      "metadata": {
        "id": "oEzlg4iF0UJ0",
        "colab_type": "text"
      },
      "source": [
        "## Retained and resurrected users\n",
        "\n",
        "Users can be split into four groups:\n",
        "- New/registered users are ones that just signed up for your platform\n",
        "- Retained users used to use your app, and still do, too.\n",
        "- Churned users used to use your app, and no longer do.\n",
        "- Resurrected users were churned users who returned to using your app.\n",
        "\n",
        "Retention is another core KPI that platforms use to measure how well they are at keeping their users."
      ]
    },
    {
      "cell_type": "code",
      "metadata": {
        "id": "LiILc4mRrLmJ",
        "colab_type": "code",
        "outputId": "77b92783-d3d8-4557-fca8-ba0879192c4b",
        "colab": {
          "base_uri": "https://localhost:8080/",
          "height": 436
        }
      },
      "source": [
        "%%sql\n",
        "\n",
        "-- Get the months in which each user is active\n",
        "\n",
        "SELECT DISTINCT\n",
        "  DATE_TRUNC('month', session_date) :: DATE AS act_month,\n",
        "  user_id\n",
        "FROM user_sessions\n",
        "ORDER BY act_month ASC, user_id ASC;"
      ],
      "execution_count": 19,
      "outputs": [
        {
          "output_type": "stream",
          "text": [
            " * postgresql+psycopg2://@/postgres\n"
          ],
          "name": "stdout"
        },
        {
          "output_type": "execute_result",
          "data": {
            "text/html": [
              "<div>\n",
              "<style scoped>\n",
              "    .dataframe tbody tr th:only-of-type {\n",
              "        vertical-align: middle;\n",
              "    }\n",
              "\n",
              "    .dataframe tbody tr th {\n",
              "        vertical-align: top;\n",
              "    }\n",
              "\n",
              "    .dataframe thead th {\n",
              "        text-align: right;\n",
              "    }\n",
              "</style>\n",
              "<table border=\"1\" class=\"dataframe\">\n",
              "  <thead>\n",
              "    <tr style=\"text-align: right;\">\n",
              "      <th></th>\n",
              "      <th>act_month</th>\n",
              "      <th>user_id</th>\n",
              "    </tr>\n",
              "  </thead>\n",
              "  <tbody>\n",
              "    <tr>\n",
              "      <th>0</th>\n",
              "      <td>2020-01-01</td>\n",
              "      <td>0</td>\n",
              "    </tr>\n",
              "    <tr>\n",
              "      <th>1</th>\n",
              "      <td>2020-01-01</td>\n",
              "      <td>1</td>\n",
              "    </tr>\n",
              "    <tr>\n",
              "      <th>2</th>\n",
              "      <td>2020-01-01</td>\n",
              "      <td>2</td>\n",
              "    </tr>\n",
              "    <tr>\n",
              "      <th>3</th>\n",
              "      <td>2020-01-01</td>\n",
              "      <td>3</td>\n",
              "    </tr>\n",
              "    <tr>\n",
              "      <th>4</th>\n",
              "      <td>2020-01-01</td>\n",
              "      <td>4</td>\n",
              "    </tr>\n",
              "    <tr>\n",
              "      <th>...</th>\n",
              "      <td>...</td>\n",
              "      <td>...</td>\n",
              "    </tr>\n",
              "    <tr>\n",
              "      <th>8685</th>\n",
              "      <td>2020-05-01</td>\n",
              "      <td>2056</td>\n",
              "    </tr>\n",
              "    <tr>\n",
              "      <th>8686</th>\n",
              "      <td>2020-05-01</td>\n",
              "      <td>2057</td>\n",
              "    </tr>\n",
              "    <tr>\n",
              "      <th>8687</th>\n",
              "      <td>2020-05-01</td>\n",
              "      <td>2058</td>\n",
              "    </tr>\n",
              "    <tr>\n",
              "      <th>8688</th>\n",
              "      <td>2020-05-01</td>\n",
              "      <td>2059</td>\n",
              "    </tr>\n",
              "    <tr>\n",
              "      <th>8689</th>\n",
              "      <td>2020-05-01</td>\n",
              "      <td>2060</td>\n",
              "    </tr>\n",
              "  </tbody>\n",
              "</table>\n",
              "<p>8690 rows × 2 columns</p>\n",
              "</div>"
            ],
            "text/plain": [
              "       act_month  user_id\n",
              "0     2020-01-01        0\n",
              "1     2020-01-01        1\n",
              "2     2020-01-01        2\n",
              "3     2020-01-01        3\n",
              "4     2020-01-01        4\n",
              "...          ...      ...\n",
              "8685  2020-05-01     2056\n",
              "8686  2020-05-01     2057\n",
              "8687  2020-05-01     2058\n",
              "8688  2020-05-01     2059\n",
              "8689  2020-05-01     2060\n",
              "\n",
              "[8690 rows x 2 columns]"
            ]
          },
          "metadata": {
            "tags": []
          },
          "execution_count": 19
        }
      ]
    },
    {
      "cell_type": "markdown",
      "metadata": {
        "id": "1NyCdBWR2pO-",
        "colab_type": "text"
      },
      "source": [
        "## Self-joins\n",
        "\n",
        "Now that you have the months in which each user is active, how do you calculate retention?\n",
        "\n",
        "If you left-join this table on itself on the same user ID and having a one-month difference in users, you'll see whether a user is still active in the next month or not. If the user isn't active, then the user is churned. The count of non-`NULL`s is the count of retained users.\n",
        "\n",
        "```sql\n",
        "...\n",
        "FROM ... AS prev\n",
        "LEFT JOIN ... AS curr\n",
        "  ON prev.user_id = curr.user_id\n",
        " AND prev.month = (curr.month - INTERVAL '1 MONTH')\n",
        "...\n",
        "```"
      ]
    },
    {
      "cell_type": "code",
      "metadata": {
        "id": "mcQbmTtF27OQ",
        "colab_type": "code",
        "colab": {
          "base_uri": "https://localhost:8080/",
          "height": 436
        },
        "outputId": "379563e9-d5f5-4a89-a79b-1d2161f827b9"
      },
      "source": [
        "%%sql\n",
        "\n",
        "-- Get whether each user churned in a given month\n",
        "\n",
        "WITH act_months AS (\n",
        "  SELECT DISTINCT\n",
        "    DATE_TRUNC('month', session_date) :: DATE AS act_month,\n",
        "    user_id\n",
        "  FROM user_sessions)\n",
        "\n",
        "SELECT\n",
        "  prev.act_month,\n",
        "  prev.user_id,\n",
        "  curr.user_id IS NULL AS churned_next_month\n",
        "FROM act_months AS prev\n",
        "LEFT JOIN act_months AS curr\n",
        "  ON prev.user_id = curr.user_id\n",
        " AND prev.act_month = (curr.act_month - INTERVAL '1 MONTH')\n",
        "ORDER BY prev.act_month ASC, prev.user_id ASC;"
      ],
      "execution_count": 28,
      "outputs": [
        {
          "output_type": "stream",
          "text": [
            " * postgresql+psycopg2://@/postgres\n"
          ],
          "name": "stdout"
        },
        {
          "output_type": "execute_result",
          "data": {
            "text/html": [
              "<div>\n",
              "<style scoped>\n",
              "    .dataframe tbody tr th:only-of-type {\n",
              "        vertical-align: middle;\n",
              "    }\n",
              "\n",
              "    .dataframe tbody tr th {\n",
              "        vertical-align: top;\n",
              "    }\n",
              "\n",
              "    .dataframe thead th {\n",
              "        text-align: right;\n",
              "    }\n",
              "</style>\n",
              "<table border=\"1\" class=\"dataframe\">\n",
              "  <thead>\n",
              "    <tr style=\"text-align: right;\">\n",
              "      <th></th>\n",
              "      <th>act_month</th>\n",
              "      <th>user_id</th>\n",
              "      <th>churned_next_month</th>\n",
              "    </tr>\n",
              "  </thead>\n",
              "  <tbody>\n",
              "    <tr>\n",
              "      <th>0</th>\n",
              "      <td>2020-01-01</td>\n",
              "      <td>0</td>\n",
              "      <td>False</td>\n",
              "    </tr>\n",
              "    <tr>\n",
              "      <th>1</th>\n",
              "      <td>2020-01-01</td>\n",
              "      <td>1</td>\n",
              "      <td>False</td>\n",
              "    </tr>\n",
              "    <tr>\n",
              "      <th>2</th>\n",
              "      <td>2020-01-01</td>\n",
              "      <td>2</td>\n",
              "      <td>False</td>\n",
              "    </tr>\n",
              "    <tr>\n",
              "      <th>3</th>\n",
              "      <td>2020-01-01</td>\n",
              "      <td>3</td>\n",
              "      <td>False</td>\n",
              "    </tr>\n",
              "    <tr>\n",
              "      <th>4</th>\n",
              "      <td>2020-01-01</td>\n",
              "      <td>4</td>\n",
              "      <td>False</td>\n",
              "    </tr>\n",
              "    <tr>\n",
              "      <th>...</th>\n",
              "      <td>...</td>\n",
              "      <td>...</td>\n",
              "      <td>...</td>\n",
              "    </tr>\n",
              "    <tr>\n",
              "      <th>8685</th>\n",
              "      <td>2020-05-01</td>\n",
              "      <td>2056</td>\n",
              "      <td>True</td>\n",
              "    </tr>\n",
              "    <tr>\n",
              "      <th>8686</th>\n",
              "      <td>2020-05-01</td>\n",
              "      <td>2057</td>\n",
              "      <td>True</td>\n",
              "    </tr>\n",
              "    <tr>\n",
              "      <th>8687</th>\n",
              "      <td>2020-05-01</td>\n",
              "      <td>2058</td>\n",
              "      <td>True</td>\n",
              "    </tr>\n",
              "    <tr>\n",
              "      <th>8688</th>\n",
              "      <td>2020-05-01</td>\n",
              "      <td>2059</td>\n",
              "      <td>True</td>\n",
              "    </tr>\n",
              "    <tr>\n",
              "      <th>8689</th>\n",
              "      <td>2020-05-01</td>\n",
              "      <td>2060</td>\n",
              "      <td>True</td>\n",
              "    </tr>\n",
              "  </tbody>\n",
              "</table>\n",
              "<p>8690 rows × 3 columns</p>\n",
              "</div>"
            ],
            "text/plain": [
              "       act_month  user_id  churned_next_month\n",
              "0     2020-01-01        0               False\n",
              "1     2020-01-01        1               False\n",
              "2     2020-01-01        2               False\n",
              "3     2020-01-01        3               False\n",
              "4     2020-01-01        4               False\n",
              "...          ...      ...                 ...\n",
              "8685  2020-05-01     2056                True\n",
              "8686  2020-05-01     2057                True\n",
              "8687  2020-05-01     2058                True\n",
              "8688  2020-05-01     2059                True\n",
              "8689  2020-05-01     2060                True\n",
              "\n",
              "[8690 rows x 3 columns]"
            ]
          },
          "metadata": {
            "tags": []
          },
          "execution_count": 28
        }
      ]
    },
    {
      "cell_type": "markdown",
      "metadata": {
        "id": "ocFiH81H5Rgu",
        "colab_type": "text"
      },
      "source": [
        "Store the results in a CTE and count the number of `FALSE` in the `churned_next_month` to get the retention rate."
      ]
    },
    {
      "cell_type": "code",
      "metadata": {
        "id": "fZJd5X7Y5CNN",
        "colab_type": "code",
        "colab": {
          "base_uri": "https://localhost:8080/",
          "height": 221
        },
        "outputId": "c0ce5fa9-eb8d-42b7-8b15-227933212f35"
      },
      "source": [
        "%%sql\n",
        "\n",
        "-- Get whether each user churned in a given month\n",
        "\n",
        "WITH act_months AS (\n",
        "    SELECT DISTINCT\n",
        "      DATE_TRUNC('month', session_date) :: DATE AS act_month,\n",
        "      user_id\n",
        "    FROM user_sessions),\n",
        "\n",
        "  churned AS (\n",
        "    SELECT\n",
        "      prev.act_month,\n",
        "      prev.user_id,\n",
        "      curr.user_id IS NULL AS churned_next_month\n",
        "    FROM act_months AS prev\n",
        "    LEFT JOIN act_months AS curr\n",
        "      ON prev.user_id = curr.user_id\n",
        "    AND prev.act_month = (curr.act_month - INTERVAL '1 MONTH'))\n",
        "  \n",
        "SELECT\n",
        "  act_month,\n",
        "  COUNT(DISTINCT user_id) AS users,\n",
        "  SUM(CASE WHEN NOT churned_next_month THEN 1 ELSE 0 END) AS retained_next_month,\n",
        "  ROUND(\n",
        "      SUM(CASE WHEN NOT churned_next_month THEN 1 ELSE 0 END) :: NUMERIC /\n",
        "      COUNT(DISTINCT user_id), 3\n",
        "  ) AS retention_rate\n",
        "FROM churned\n",
        "GROUP BY act_month\n",
        "ORDER BY act_month ASC;"
      ],
      "execution_count": 34,
      "outputs": [
        {
          "output_type": "stream",
          "text": [
            " * postgresql+psycopg2://@/postgres\n"
          ],
          "name": "stdout"
        },
        {
          "output_type": "execute_result",
          "data": {
            "text/html": [
              "<div>\n",
              "<style scoped>\n",
              "    .dataframe tbody tr th:only-of-type {\n",
              "        vertical-align: middle;\n",
              "    }\n",
              "\n",
              "    .dataframe tbody tr th {\n",
              "        vertical-align: top;\n",
              "    }\n",
              "\n",
              "    .dataframe thead th {\n",
              "        text-align: right;\n",
              "    }\n",
              "</style>\n",
              "<table border=\"1\" class=\"dataframe\">\n",
              "  <thead>\n",
              "    <tr style=\"text-align: right;\">\n",
              "      <th></th>\n",
              "      <th>act_month</th>\n",
              "      <th>users</th>\n",
              "      <th>retained_next_month</th>\n",
              "      <th>retention_rate</th>\n",
              "    </tr>\n",
              "  </thead>\n",
              "  <tbody>\n",
              "    <tr>\n",
              "      <th>0</th>\n",
              "      <td>2020-01-01</td>\n",
              "      <td>1472</td>\n",
              "      <td>1455</td>\n",
              "      <td>0.988</td>\n",
              "    </tr>\n",
              "    <tr>\n",
              "      <th>1</th>\n",
              "      <td>2020-02-01</td>\n",
              "      <td>1621</td>\n",
              "      <td>1559</td>\n",
              "      <td>0.962</td>\n",
              "    </tr>\n",
              "    <tr>\n",
              "      <th>2</th>\n",
              "      <td>2020-03-01</td>\n",
              "      <td>1723</td>\n",
              "      <td>1667</td>\n",
              "      <td>0.967</td>\n",
              "    </tr>\n",
              "    <tr>\n",
              "      <th>3</th>\n",
              "      <td>2020-04-01</td>\n",
              "      <td>1879</td>\n",
              "      <td>1816</td>\n",
              "      <td>0.966</td>\n",
              "    </tr>\n",
              "    <tr>\n",
              "      <th>4</th>\n",
              "      <td>2020-05-01</td>\n",
              "      <td>1995</td>\n",
              "      <td>0</td>\n",
              "      <td>0.000</td>\n",
              "    </tr>\n",
              "  </tbody>\n",
              "</table>\n",
              "</div>"
            ],
            "text/plain": [
              "    act_month  users  retained_next_month retention_rate\n",
              "0  2020-01-01   1472                 1455          0.988\n",
              "1  2020-02-01   1621                 1559          0.962\n",
              "2  2020-03-01   1723                 1667          0.967\n",
              "3  2020-04-01   1879                 1816          0.966\n",
              "4  2020-05-01   1995                    0          0.000"
            ]
          },
          "metadata": {
            "tags": []
          },
          "execution_count": 34
        }
      ]
    }
  ]
}