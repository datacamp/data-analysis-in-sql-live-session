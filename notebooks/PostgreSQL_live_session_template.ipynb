{
  "nbformat": 4,
  "nbformat_minor": 0,
  "metadata": {
    "colab": {
      "name": "PostgreSQL_live_session_template.ipynb",
      "provenance": [],
      "include_colab_link": true
    },
    "kernelspec": {
      "name": "python3",
      "display_name": "Python 3"
    }
  },
  "cells": [
    {
      "cell_type": "markdown",
      "metadata": {
        "id": "view-in-github",
        "colab_type": "text"
      },
      "source": [
        "<a href=\"https://colab.research.google.com/github/datacamp/data-analysis-in-sql-live-training/blob/master/notebooks/PostgreSQL_live_session_template.ipynb\" target=\"_parent\"><img src=\"https://colab.research.google.com/assets/colab-badge.svg\" alt=\"Open In Colab\"/></a>"
      ]
    },
    {
      "cell_type": "markdown",
      "metadata": {
        "id": "tnjoHnXBnlof",
        "colab_type": "text"
      },
      "source": [
        "<p align=\"center\">\n",
        "<img src=\"https://github.com/datacamp/data-analysis-in-sql-live-session/blob/master/assets/datacamp.svg?raw=True\" alt = \"DataCamp icon\" width=\"50%\">\n",
        "</p>\n",
        "<br><br>\n",
        "\n",
        "## **PostgreSQL Live Training Template**\n",
        "\n",
        "_Enter a brief description of your session, here's an example below:_\n",
        "\n",
        "Welcome to this hands-on training where we will immerse yourself in data analysis in SQL. You'll learn how to extract data, and analyze it using SQL.\n",
        "You will have the ability to:\n",
        "\n",
        "* Select mulitple columns in SQL.\n",
        "* Compute aggregations and summarize your data.\n",
        "* Join tables to get more insights.\n",
        "\n",
        "## **The Dataset**\n",
        "\n",
        "_Enter a brief description of your dataset and its columns, here's an example below:_\n",
        "\n",
        "\n",
        "The dataset to be used in this webinar is a CSV file named `actor.csv`, which contains data on actors:\n",
        "\n",
        "- `actor_id`: The unique identifier for an actor\n",
        "- `first_name`: Actor first name\n",
        "- `last_name`: Actor last name\n",
        "- `last_update`: Last showing"
      ]
    },
    {
      "cell_type": "markdown",
      "metadata": {
        "id": "agoSpqYunxZ1",
        "colab_type": "text"
      },
      "source": [
        "## **Setting up PostgreSQL**"
      ]
    },
    {
      "cell_type": "code",
      "metadata": {
        "id": "WZ-Rqu2yoCzR",
        "colab_type": "code",
        "colab": {}
      },
      "source": [
        "#@title **This block of code will install PosgreSQL**\n",
        "%%capture\n",
        "!wget -qO- https://www.postgresql.org/media/keys/ACCC4CF8.asc | apt-key add -\n",
        "!echo \"deb http://apt.postgresql.org/pub/repos/apt/ bionic-pgdg main\" >/etc/apt/sources.list.d/pgdg.list\n",
        "!apt -qq update\n",
        "!apt -yq install postgresql-12 postgresql-client-12\n",
        "!service postgresql start\n",
        "# make calling psql shorter\n",
        "!sudo -u postgres psql -c \"CREATE USER root WITH SUPERUSER\"  \n",
        "!psql postgres -c \"CREATE DATABASE root\"  # now just !psql -c \"...\"\n",
        "# load SQL extensions\n",
        "%load_ext sql\n",
        "%config SqlMagic.feedback=False \n",
        "%config SqlMagic.autopandas=True\n",
        "%sql postgresql+psycopg2://@/postgres"
      ],
      "execution_count": 0,
      "outputs": []
    },
    {
      "cell_type": "code",
      "metadata": {
        "id": "5spm-fLTn7oP",
        "colab_type": "code",
        "colab": {}
      },
      "source": [
        "#@title **This will download your data to local environment**\n",
        "!wget -q https://github.com/datacamp/data-analysis-in-sql-live-training/raw/master/data/user_data.csv"
      ],
      "execution_count": 0,
      "outputs": []
    },
    {
      "cell_type": "code",
      "metadata": {
        "id": "4fiq0KKsokAX",
        "colab_type": "code",
        "outputId": "98c5fe3f-a561-4bf9-c8af-edce2327da9e",
        "colab": {
          "base_uri": "https://localhost:8080/",
          "height": 49
        }
      },
      "source": [
        "#@title **This will create your table**\n",
        "%%sql\n",
        "-- Make sure to amend you table name, column names and types\n",
        "DROP TABLE IF EXISTS user_sessions;\n",
        "CREATE TABLE user_sessions(\n",
        " session_date date,\n",
        " user_id int,\n",
        " time_spent_in_mins int\n",
        ");\n",
        "\n",
        "COPY user_sessions\n",
        "-- Make sure to point to correct file and delimiter \n",
        "FROM '/content/user_data.csv' DELIMITER ',' CSV HEADER;"
      ],
      "execution_count": 5,
      "outputs": [
        {
          "output_type": "stream",
          "text": [
            " * postgresql+psycopg2://@/postgres\n"
          ],
          "name": "stdout"
        },
        {
          "output_type": "execute_result",
          "data": {
            "text/html": [
              "<div>\n",
              "<style scoped>\n",
              "    .dataframe tbody tr th:only-of-type {\n",
              "        vertical-align: middle;\n",
              "    }\n",
              "\n",
              "    .dataframe tbody tr th {\n",
              "        vertical-align: top;\n",
              "    }\n",
              "\n",
              "    .dataframe thead th {\n",
              "        text-align: right;\n",
              "    }\n",
              "</style>\n",
              "<table border=\"1\" class=\"dataframe\">\n",
              "  <thead>\n",
              "    <tr style=\"text-align: right;\">\n",
              "      <th></th>\n",
              "    </tr>\n",
              "  </thead>\n",
              "  <tbody>\n",
              "  </tbody>\n",
              "</table>\n",
              "</div>"
            ],
            "text/plain": [
              "Empty DataFrame\n",
              "Columns: []\n",
              "Index: []"
            ]
          },
          "metadata": {
            "tags": []
          },
          "execution_count": 5
        }
      ]
    },
    {
      "cell_type": "code",
      "metadata": {
        "id": "KpFHkiwIo8KW",
        "colab_type": "code",
        "outputId": "ef035877-b4e6-47b2-879b-126b97880f10",
        "colab": {
          "base_uri": "https://localhost:8080/",
          "height": 376
        }
      },
      "source": [
        "%%sql\n",
        "-- SELECT first 10 rows\n",
        "\n",
        "SELECT * \n",
        "FROM user_sessions \n",
        "LIMIT 10;"
      ],
      "execution_count": 6,
      "outputs": [
        {
          "output_type": "stream",
          "text": [
            " * postgresql+psycopg2://@/postgres\n"
          ],
          "name": "stdout"
        },
        {
          "output_type": "execute_result",
          "data": {
            "text/html": [
              "<div>\n",
              "<style scoped>\n",
              "    .dataframe tbody tr th:only-of-type {\n",
              "        vertical-align: middle;\n",
              "    }\n",
              "\n",
              "    .dataframe tbody tr th {\n",
              "        vertical-align: top;\n",
              "    }\n",
              "\n",
              "    .dataframe thead th {\n",
              "        text-align: right;\n",
              "    }\n",
              "</style>\n",
              "<table border=\"1\" class=\"dataframe\">\n",
              "  <thead>\n",
              "    <tr style=\"text-align: right;\">\n",
              "      <th></th>\n",
              "      <th>session_date</th>\n",
              "      <th>user_id</th>\n",
              "      <th>time_spent_in_mins</th>\n",
              "    </tr>\n",
              "  </thead>\n",
              "  <tbody>\n",
              "    <tr>\n",
              "      <th>0</th>\n",
              "      <td>2020-01-01</td>\n",
              "      <td>1</td>\n",
              "      <td>127</td>\n",
              "    </tr>\n",
              "    <tr>\n",
              "      <th>1</th>\n",
              "      <td>2020-01-01</td>\n",
              "      <td>2</td>\n",
              "      <td>147</td>\n",
              "    </tr>\n",
              "    <tr>\n",
              "      <th>2</th>\n",
              "      <td>2020-01-01</td>\n",
              "      <td>5</td>\n",
              "      <td>106</td>\n",
              "    </tr>\n",
              "    <tr>\n",
              "      <th>3</th>\n",
              "      <td>2020-01-01</td>\n",
              "      <td>6</td>\n",
              "      <td>179</td>\n",
              "    </tr>\n",
              "    <tr>\n",
              "      <th>4</th>\n",
              "      <td>2020-01-01</td>\n",
              "      <td>7</td>\n",
              "      <td>143</td>\n",
              "    </tr>\n",
              "    <tr>\n",
              "      <th>5</th>\n",
              "      <td>2020-01-01</td>\n",
              "      <td>8</td>\n",
              "      <td>179</td>\n",
              "    </tr>\n",
              "    <tr>\n",
              "      <th>6</th>\n",
              "      <td>2020-01-01</td>\n",
              "      <td>10</td>\n",
              "      <td>94</td>\n",
              "    </tr>\n",
              "    <tr>\n",
              "      <th>7</th>\n",
              "      <td>2020-01-01</td>\n",
              "      <td>11</td>\n",
              "      <td>76</td>\n",
              "    </tr>\n",
              "    <tr>\n",
              "      <th>8</th>\n",
              "      <td>2020-01-01</td>\n",
              "      <td>12</td>\n",
              "      <td>166</td>\n",
              "    </tr>\n",
              "    <tr>\n",
              "      <th>9</th>\n",
              "      <td>2020-01-01</td>\n",
              "      <td>14</td>\n",
              "      <td>135</td>\n",
              "    </tr>\n",
              "  </tbody>\n",
              "</table>\n",
              "</div>"
            ],
            "text/plain": [
              "  session_date  user_id  time_spent_in_mins\n",
              "0   2020-01-01        1                 127\n",
              "1   2020-01-01        2                 147\n",
              "2   2020-01-01        5                 106\n",
              "3   2020-01-01        6                 179\n",
              "4   2020-01-01        7                 143\n",
              "5   2020-01-01        8                 179\n",
              "6   2020-01-01       10                  94\n",
              "7   2020-01-01       11                  76\n",
              "8   2020-01-01       12                 166\n",
              "9   2020-01-01       14                 135"
            ]
          },
          "metadata": {
            "tags": []
          },
          "execution_count": 6
        }
      ]
    }
  ]
}