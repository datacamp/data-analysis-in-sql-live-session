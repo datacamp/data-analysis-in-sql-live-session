{
  "nbformat": 4,
  "nbformat_minor": 0,
  "metadata": {
    "colab": {
      "name": "PostgreSQL_live_session_template.ipynb",
      "provenance": []
    },
    "kernelspec": {
      "name": "python3",
      "display_name": "Python 3"
    }
  },
  "cells": [
    {
      "cell_type": "markdown",
      "metadata": {
        "id": "tnjoHnXBnlof",
        "colab_type": "text"
      },
      "source": [
        "<p align=\"center\">\n",
        "<img src=\"https://github.com/datacamp/data-analysis-in-sql-live-session/blob/master/assets/datacamp.svg?raw=True\" alt = \"DataCamp icon\" width=\"50%\">\n",
        "</p>\n",
        "<br><br>\n",
        "\n",
        "## **Data Analysis with SQL**\n",
        "\n",
        "In this webinar, you'll learn how to write advanced queries to calculate core business metrics and KPIs. You'll be able to:\n",
        "\n",
        "* Use Common Table Expressions to temporarily store a query's results\n",
        "* Fetch values from different rows using window functinos\n",
        "* Use self-joins to peak into the future\n",
        "\n",
        "## **The Dataset**\n",
        "\n",
        "We'll use two tables. The first, `user_sessions`, stores data user session data on a social media website. The table's schema is as follows:\n",
        "\n",
        "- `session_date`: The date on which the user accessed the site\n",
        "- `user_id`: The user's unique identifier\n",
        "- `time_spent_in_mins`: How much time the user spent on the site\n",
        "\n",
        "The second, `user_data`, stores the users' metadata. The table's schema is as follows:\n",
        "\n",
        "- `user_id`: The user's unique identifier\n",
        "- `gender`: The user's gender\n",
        "- `age`: The user's age\n",
        "\n"
      ]
    },
    {
      "cell_type": "markdown",
      "metadata": {
        "id": "agoSpqYunxZ1",
        "colab_type": "text"
      },
      "source": [
        "## **Setting up PostgreSQL**"
      ]
    },
    {
      "cell_type": "code",
      "metadata": {
        "id": "WZ-Rqu2yoCzR",
        "colab_type": "code",
        "colab": {}
      },
      "source": [
        "#@title **This block of code will install PosgreSQL**\n",
        "%%capture\n",
        "!wget -qO- https://www.postgresql.org/media/keys/ACCC4CF8.asc | apt-key add -\n",
        "!echo \"deb http://apt.postgresql.org/pub/repos/apt/ bionic-pgdg main\" >/etc/apt/sources.list.d/pgdg.list\n",
        "!apt -qq update\n",
        "!apt -yq install postgresql-12 postgresql-client-12\n",
        "!service postgresql start\n",
        "# make calling psql shorter\n",
        "!sudo -u postgres psql -c \"CREATE USER root WITH SUPERUSER\"  \n",
        "!psql postgres -c \"CREATE DATABASE root\"  # now just !psql -c \"...\"\n",
        "# load SQL extensions\n",
        "%load_ext sql\n",
        "%config SqlMagic.feedback=False \n",
        "%config SqlMagic.autopandas=True\n",
        "%sql postgresql+psycopg2://@/postgres"
      ],
      "execution_count": 0,
      "outputs": []
    },
    {
      "cell_type": "code",
      "metadata": {
        "id": "5spm-fLTn7oP",
        "colab_type": "code",
        "colab": {}
      },
      "source": [
        "#@title **This will download your data to local environment**\n",
        "!wget -q https://github.com/datacamp/data-analysis-in-sql-live-training/raw/master/data/user_data.csv\n",
        "!wget -q https://github.com/datacamp/data-analysis-in-sql-live-training/raw/master/data/user_metadata.csv"
      ],
      "execution_count": 0,
      "outputs": []
    },
    {
      "cell_type": "code",
      "metadata": {
        "id": "4fiq0KKsokAX",
        "colab_type": "code",
        "colab": {}
      },
      "source": [
        "#@title **This will create your table**\n",
        "%%sql\n",
        "-- Make sure to amend you table name, column names and types\n",
        "DROP TABLE IF EXISTS user_sessions;\n",
        "CREATE TABLE user_sessions(\n",
        " session_date date,\n",
        " user_id int,\n",
        " time_spent_in_mins int\n",
        ");\n",
        "\n",
        "COPY user_sessions\n",
        "-- Make sure to point to correct file and delimiter \n",
        "FROM '/content/user_data.csv' DELIMITER ',' CSV HEADER;\n",
        "\n",
        "DROP TABLE IF EXISTS user_data;\n",
        "CREATE TABLE user_data(\n",
        " user_id int,\n",
        " gender char(1),\n",
        " age int\n",
        ");\n",
        "\n",
        "COPY user_data\n",
        "-- Make sure to point to correct file and delimiter \n",
        "FROM '/content/user_metadata.csv' DELIMITER ',' CSV HEADER;"
      ],
      "execution_count": 0,
      "outputs": []
    },
    {
      "cell_type": "markdown",
      "metadata": {
        "id": "tS_PlDcnNaaD",
        "colab_type": "text"
      },
      "source": [
        "Let's start by exploring the tables."
      ]
    },
    {
      "cell_type": "code",
      "metadata": {
        "id": "KpFHkiwIo8KW",
        "colab_type": "code",
        "colab": {}
      },
      "source": [
        "%%sql\n",
        "\n",
        "-- SELECT first 5 rows from user_sessions\n",
        "\n",
        "SELECT *\n",
        "FROM user_sessions \n",
        "LIMIT 5;"
      ],
      "execution_count": 0,
      "outputs": []
    },
    {
      "cell_type": "code",
      "metadata": {
        "id": "nJGl2cbMdMKz",
        "colab_type": "code",
        "colab": {}
      },
      "source": [
        "%%sql\n",
        "\n",
        "-- SELECT first 5 rows from user_data\n",
        "\n",
        "SELECT *\n",
        "FROM user_data \n",
        "LIMIT 5;"
      ],
      "execution_count": 0,
      "outputs": []
    },
    {
      "cell_type": "code",
      "metadata": {
        "id": "vSKdfZ-cdQjG",
        "colab_type": "code",
        "colab": {}
      },
      "source": [
        "%%sql\n",
        "\n",
        "-- Join the two tables together\n",
        "\n",
        "SELECT *\n",
        "FROM user_sessions\n",
        "JOIN user_data ON user_sessions.user_id = user_data.user_id\n",
        "LIMIT 5;"
      ],
      "execution_count": 0,
      "outputs": []
    },
    {
      "cell_type": "markdown",
      "metadata": {
        "id": "UKGmJTbtdP6-",
        "colab_type": "text"
      },
      "source": [
        "## **Data overview**\n",
        "\n",
        "Since you have user demographics, you can start by exploring some basic metrics, like:\n",
        "\n",
        "- Average age per gender\n",
        "- User count by gender"
      ]
    },
    {
      "cell_type": "code",
      "metadata": {
        "id": "mzEewDukdQKA",
        "colab_type": "code",
        "colab": {}
      },
      "source": [
        "%%sql\n",
        "\n",
        "-- Get the average age per gender\n",
        "\n",
        "SELECT\n",
        "  gender,\n",
        "  ROUND(AVG(age), 2) AS avg_age\n",
        "FROM user_data\n",
        "GROUP BY gender\n",
        "ORDER BY gender ASC;"
      ],
      "execution_count": 0,
      "outputs": []
    },
    {
      "cell_type": "code",
      "metadata": {
        "id": "64-tDYbIdeqn",
        "colab_type": "code",
        "colab": {}
      },
      "source": [
        "%%sql\n",
        "\n",
        "-- Get the user count by gender \n",
        "\n",
        "SELECT\n",
        "  gender,\n",
        "  COUNT(DISTINCT user_id) AS users\n",
        "FROM user_data\n",
        "GROUP BY gender\n",
        "ORDER BY gender ASC;"
      ],
      "execution_count": 0,
      "outputs": []
    },
    {
      "cell_type": "markdown",
      "metadata": {
        "id": "kExFC7LQccxC",
        "colab_type": "text"
      },
      "source": [
        "## **Active users**\n",
        "\n",
        "The active users KPI counts the active users of a company's app over a certain time period:\n",
        "- by day (daily active users, or DAU)\n",
        "- by month (monthly active users, or MAU)\n",
        "\n",
        "For example, Facebook had 1.76B DAU and 2.6 MAU in March.\n",
        "\n",
        "Stickiness (DAU / MAU) measures how often users engage with an app on average. Facebook's stickiness for March was `1.76B / 2.6B ~= 0.677`, meaning that, on average, users used Facebook for `67.7% x 30 days ~= 20` days each month.\n",
        "\n",
        "To get the daily active users, we need to count the number of unique `user_id`s for each `session_date`"
      ]
    },
    {
      "cell_type": "code",
      "metadata": {
        "id": "9ko0H5pSmC-f",
        "colab_type": "code",
        "colab": {}
      },
      "source": [
        "%%sql\n",
        "\n",
        "-- Calculate the Daily Active Users (DAU)\n",
        "\n",
        "SELECT DISTINCT\n",
        "  session_date,\n",
        "  COUNT(DISTINCT user_id) AS users\n",
        "FROM user_sessions\n",
        "GROUP BY session_date\n",
        "ORDER BY session_date ASC;"
      ],
      "execution_count": 0,
      "outputs": []
    },
    {
      "cell_type": "markdown",
      "metadata": {
        "id": "bYTwPy06qVzu",
        "colab_type": "text"
      },
      "source": [
        "This is what the results would look like when visualized:\n",
        "\n",
        "![Facespace DAU](https://github.com/datacamp/data-analysis-in-sql-live-training/raw/master/assets/facespace_dau.png)"
      ]
    },
    {
      "cell_type": "markdown",
      "metadata": {
        "id": "zkNmzkIHh-6e",
        "colab_type": "text"
      },
      "source": [
        "## **Monthly active users**\n",
        "\n",
        "Usually, reports include MAU, not DAU. How do you convert the session dates to months?\n",
        "\n",
        "**Enter `DATE_TRUNC`**\n",
        "\n",
        "`DATE_TRUNC(date_part, date) → DATE`: Truncates `date` to the nearest `date_part`.\n",
        "\n",
        "**Examples**\n",
        "- `DATE_TRUNC('week', '2018-06-12') :: DATE` → `'2018-06-11'`\n",
        "- `DATE_TRUNC('month', '2018-06-12') :: DATE` → `'2018-06-01'`\n",
        "- `DATE_TRUNC('quarter', '2018-06-12') :: DATE` → `'2018-04-01'`\n",
        "- `DATE_TRUNC('year', '2018-06-12') :: DATE` → `'2018-01-01'`\n",
        "\n",
        "**Note**: `:: DATE` is just to remove the hours, minutes, and seconds."
      ]
    },
    {
      "cell_type": "code",
      "metadata": {
        "id": "VNsxnr0cmSLV",
        "colab_type": "code",
        "colab": {}
      },
      "source": [
        "%%sql\n",
        "\n",
        "-- Calculate the Monthly Active Users (DAU)\n",
        "\n",
        "SELECT\n",
        "  DATE_TRUNC('month', session_date) :: DATE AS session_month,\n",
        "  COUNT(DISTINCT user_id) AS active_users\n",
        "FROM user_sessions\n",
        "GROUP BY session_month\n",
        "ORDER BY session_month ASC;"
      ],
      "execution_count": 0,
      "outputs": []
    },
    {
      "cell_type": "markdown",
      "metadata": {
        "id": "qFI164WOqpm_",
        "colab_type": "text"
      },
      "source": [
        "This is what the results would look like when visualized:\n",
        "\n",
        "![Facebook MAU](https://github.com/datacamp/data-analysis-in-sql-live-training/raw/master/assets/facespace_mau.png)"
      ]
    },
    {
      "cell_type": "markdown",
      "metadata": {
        "id": "Mig_YapOkBpv",
        "colab_type": "text"
      },
      "source": [
        "## **Registration dates**\n",
        "\n",
        "Let's define the user's registration date as the date of that user's first session.\n",
        "\n",
        "So, each user's registration date is the minimum session date for that user in the `user_sessions` table.\n",
        "\n",
        "We'll use these results later on to calculate the growth in registrations."
      ]
    },
    {
      "cell_type": "code",
      "metadata": {
        "id": "9yyYTFcWkXCq",
        "colab_type": "code",
        "colab": {}
      },
      "source": [
        "%%sql\n",
        "\n",
        "-- Get each user's registration date\n",
        "\n",
        "SELECT\n",
        "  user_id,\n",
        "  MIN(session_date) AS reg_date\n",
        "FROM user_sessions\n",
        "GROUP BY user_id\n",
        "ORDER BY reg_date ASC, user_id ASC;"
      ],
      "execution_count": 0,
      "outputs": []
    },
    {
      "cell_type": "markdown",
      "metadata": {
        "id": "2N_xwF7Yup2b",
        "colab_type": "text"
      },
      "source": [
        "## **Registrations and Common Table Expressions (CTEs)**\n",
        "\n",
        "Now that you have each user's registration date, you'll want to store the results somehow to use them in a different query. How do you do that?\n",
        "\n",
        "**Enter Common Table Expressions (CTEs)**\n",
        "\n",
        "```sql\n",
        "WITH cte_name AS (\n",
        "  ...\n",
        ")\n",
        "\n",
        "SELECT *\n",
        "FROM cte_name;\n",
        "```\n",
        "\n",
        "A CTE stores the results of a query temporarily in the specificed `cte_name` so it can be used in the outer query later on.\n",
        "\n",
        "Once you store the results of the previous query in a CTE, you can `DATE_TRUNC()` the registration dates and count the unique `user_id`s in each registration month."
      ]
    },
    {
      "cell_type": "code",
      "metadata": {
        "id": "nFfDu_aQm9dD",
        "colab_type": "code",
        "colab": {}
      },
      "source": [
        "%%sql\n",
        "\n",
        "-- Store each user's registration date in the regs CTE\n",
        "-- Calculate the number of registrations per month\n",
        "\n",
        "WITH regs AS (\n",
        "  SELECT\n",
        "    user_id,\n",
        "    MIN(session_date) AS reg_date\n",
        "  FROM user_sessions\n",
        "  GROUP BY user_id)\n",
        "\n",
        "SELECT\n",
        "  DATE_TRUNC('month', reg_date) :: DATE AS reg_month,\n",
        "  COUNT(DISTINCT user_id) AS users\n",
        "FROM regs\n",
        "GROUP BY reg_month\n",
        "ORDER BY reg_month ASC;"
      ],
      "execution_count": 0,
      "outputs": []
    },
    {
      "cell_type": "markdown",
      "metadata": {
        "id": "txxa2OVBvuYW",
        "colab_type": "text"
      },
      "source": [
        "## **Growth and window functions**\n",
        "\n",
        "You now have each month's registrations. How do you calculate growth?\n",
        "\n",
        "`Growth = (Current month - previous month) / previous month`\n",
        "\n",
        "For example, if you had 122 registrations last month, and you have 156 registrations this month, your registrations grew by `(156 - 122) / 122 ~= 28%` this month.\n",
        "\n",
        "So you need both the previous and the current months' registrations in the same row. How do you do that?\n",
        "\n",
        "**Window functions**\n",
        "\n",
        "A window function performs some operation across a set of table rows that are somehow related to the current row.\n",
        "\n",
        "- `LAG(column_a, 1) OVER (ORDER BY column_b ASC)` Gets the previous row's value in `column_a` if you sort by `column_b`."
      ]
    },
    {
      "cell_type": "code",
      "metadata": {
        "id": "BKg-pJpjoS4F",
        "colab_type": "code",
        "colab": {}
      },
      "source": [
        "%%sql\n",
        "-- Fetch the previous and current months' MAUs\n",
        "\n",
        "\n",
        "WITH regs AS (\n",
        "  SELECT\n",
        "    user_id,\n",
        "    MIN(session_date) AS reg_date\n",
        "  FROM user_sessions\n",
        "  GROUP BY user_id),\n",
        "\n",
        "  regs_per_month AS (\n",
        "    SELECT\n",
        "      DATE_TRUNC('month', reg_date) :: DATE AS reg_month,\n",
        "      COUNT(DISTINCT user_id) AS users\n",
        "    FROM regs\n",
        "    GROUP BY reg_month\n",
        "  )\n",
        "\n",
        "SELECT\n",
        "  reg_month,\n",
        "  users,\n",
        "  LAG(users, 1) OVER (ORDER BY regs_per_month ASC) AS previous_users\n",
        "FROM regs_per_month\n",
        "ORDER BY reg_month ASC;"
      ],
      "execution_count": 0,
      "outputs": []
    },
    {
      "cell_type": "markdown",
      "metadata": {
        "id": "JFNbQqVjyyvn",
        "colab_type": "text"
      },
      "source": [
        "Store the results in a CTE and apply the formula to get the monthly registrations growth rates. You can use `COALESCE(..., 1)` to convert any `NULL` values to 1."
      ]
    },
    {
      "cell_type": "code",
      "metadata": {
        "id": "teCiC7UOpPfi",
        "colab_type": "code",
        "colab": {}
      },
      "source": [
        "%%sql\n",
        "\n",
        "-- Calculate the monthly growth in registrations\n",
        "\n",
        "WITH regs AS (\n",
        "  SELECT\n",
        "    user_id,\n",
        "    MIN(session_date) AS reg_date\n",
        "  FROM user_sessions\n",
        "  GROUP BY user_id),\n",
        "\n",
        "  regs_per_month AS (\n",
        "    SELECT\n",
        "      DATE_TRUNC('month', reg_date) :: DATE AS reg_month,\n",
        "      COUNT(DISTINCT user_id) AS users\n",
        "    FROM regs\n",
        "    GROUP BY reg_month\n",
        "  ),\n",
        "\n",
        "  lag_regs AS (\n",
        "    SELECT\n",
        "      reg_month,\n",
        "      users,\n",
        "      COALESCE(\n",
        "        LAG(users, 1) OVER (ORDER BY regs_per_month ASC), 1\n",
        "      ) AS previous_users\n",
        "    FROM regs_per_month)\n",
        "\n",
        "SELECT\n",
        "  reg_month,\n",
        "  users,\n",
        "  ROUND(\n",
        "      (users - previous_users) :: NUMERIC / previous_users, 3\n",
        "  ) AS growth_rate\n",
        "FROM lag_regs\n",
        "ORDER BY reg_month ASC;"
      ],
      "execution_count": 0,
      "outputs": []
    },
    {
      "cell_type": "markdown",
      "metadata": {
        "id": "oEzlg4iF0UJ0",
        "colab_type": "text"
      },
      "source": [
        "## **Retained and resurrected users**\n",
        "\n",
        "Users can be split into four groups:\n",
        "- New/registered users are ones that just signed up for your platform\n",
        "- Retained users used to use your app, and still do, too.\n",
        "- Churned users used to use your app, and no longer do.\n",
        "- Resurrected users were churned users who returned to using your app.\n",
        "\n",
        "Retention is another core KPI that platforms use to measure how well they are at keeping their users.\n",
        "\n",
        "The first step to calculating retention is getting each of the months in which each user is active."
      ]
    },
    {
      "cell_type": "code",
      "metadata": {
        "id": "LiILc4mRrLmJ",
        "colab_type": "code",
        "colab": {}
      },
      "source": [
        "%%sql\n",
        "\n",
        "-- Get the months in which each user is active\n",
        "\n",
        "SELECT DISTINCT\n",
        "  DATE_TRUNC('month', session_date) :: DATE AS act_month,\n",
        "  user_id\n",
        "FROM user_sessions\n",
        "ORDER BY act_month ASC, user_id ASC;"
      ],
      "execution_count": 0,
      "outputs": []
    },
    {
      "cell_type": "markdown",
      "metadata": {
        "id": "1NyCdBWR2pO-",
        "colab_type": "text"
      },
      "source": [
        "## **Self-joins**\n",
        "\n",
        "Now that you have the months in which each user is active, how do you calculate retention?\n",
        "\n",
        "![Left joins](https://user-images.githubusercontent.com/48436758/83518570-e4ff8c00-a4da-11ea-8a5a-25ea46df2bcc.png)\n",
        "\n",
        "If you left-join this table on itself on the same user ID and having a one-month difference in users, you'll see whether a user is still active in the next month or not. If the user isn't active, then the user is churned. The count of non-`NULL`s is the count of retained users.\n",
        "\n",
        "```sql\n",
        "...\n",
        "FROM ... AS prev\n",
        "LEFT JOIN ... AS curr\n",
        "  ON prev.user_id = curr.user_id\n",
        " AND prev.month = (curr.month - INTERVAL '1 MONTH')\n",
        "...\n",
        "```\n",
        "\n"
      ]
    },
    {
      "cell_type": "code",
      "metadata": {
        "id": "mcQbmTtF27OQ",
        "colab_type": "code",
        "colab": {}
      },
      "source": [
        "%%sql\n",
        "\n",
        "-- Get whether each user churned in a given month\n",
        "\n",
        "WITH act_months AS (\n",
        "  SELECT DISTINCT\n",
        "    DATE_TRUNC('month', session_date) :: DATE AS act_month,\n",
        "    user_id\n",
        "  FROM user_sessions)\n",
        "\n",
        "SELECT\n",
        "  prev.act_month,\n",
        "  prev.user_id,\n",
        "  curr.user_id IS NULL AS churned_next_month\n",
        "FROM act_months AS prev\n",
        "LEFT JOIN act_months AS curr\n",
        "  ON prev.user_id = curr.user_id\n",
        " AND prev.act_month = (curr.act_month - INTERVAL '1 MONTH')\n",
        "ORDER BY prev.act_month ASC, prev.user_id ASC;"
      ],
      "execution_count": 0,
      "outputs": []
    },
    {
      "cell_type": "markdown",
      "metadata": {
        "id": "ocFiH81H5Rgu",
        "colab_type": "text"
      },
      "source": [
        "Store the results in a CTE and count the number of `FALSE` in the `churned_next_month` to get the retention rate."
      ]
    },
    {
      "cell_type": "code",
      "metadata": {
        "id": "fZJd5X7Y5CNN",
        "colab_type": "code",
        "colab": {}
      },
      "source": [
        "%%sql\n",
        "\n",
        "-- Calculate the retention rate\n",
        "\n",
        "WITH act_months AS (\n",
        "    SELECT DISTINCT\n",
        "      DATE_TRUNC('month', session_date) :: DATE AS act_month,\n",
        "      user_id\n",
        "    FROM user_sessions),\n",
        "\n",
        "  churned AS (\n",
        "    SELECT\n",
        "      prev.act_month,\n",
        "      prev.user_id,\n",
        "      curr.user_id IS NULL AS churned_next_month\n",
        "    FROM act_months AS prev\n",
        "    LEFT JOIN act_months AS curr\n",
        "      ON prev.user_id = curr.user_id\n",
        "    AND prev.act_month = (curr.act_month - INTERVAL '1 MONTH'))\n",
        "  \n",
        "SELECT\n",
        "  act_month,\n",
        "  COUNT(DISTINCT user_id) AS users,\n",
        "  SUM(CASE WHEN NOT churned_next_month THEN 1 ELSE 0 END) AS retained_next_month,\n",
        "  ROUND(\n",
        "      SUM(CASE WHEN NOT churned_next_month THEN 1 ELSE 0 END) :: NUMERIC /\n",
        "      COUNT(DISTINCT user_id), 3\n",
        "  ) AS retention_rate\n",
        "FROM churned\n",
        "GROUP BY act_month\n",
        "ORDER BY act_month ASC;"
      ],
      "execution_count": 0,
      "outputs": []
    },
    {
      "cell_type": "markdown",
      "metadata": {
        "id": "F5LjlR9li1HS",
        "colab_type": "text"
      },
      "source": [
        "## **Average age of churners**\n",
        "\n",
        "Now that you have the retention status of each user, you can see whether there are any trends in churns, such as older people churning more."
      ]
    },
    {
      "cell_type": "code",
      "metadata": {
        "id": "hXor4oHpiA8u",
        "colab_type": "code",
        "colab": {}
      },
      "source": [
        "%%sql\n",
        "\n",
        "-- Get the average age of churners versus retained users in April\n",
        "\n",
        "WITH act_months AS (\n",
        "    SELECT DISTINCT\n",
        "      DATE_TRUNC('month', session_date) :: DATE AS act_month,\n",
        "      user_id\n",
        "    FROM user_sessions),\n",
        "\n",
        "  churned AS (\n",
        "    SELECT\n",
        "      prev.act_month,\n",
        "      prev.user_id,\n",
        "      curr.user_id IS NULL AS churned_next_month\n",
        "    FROM act_months AS prev\n",
        "    LEFT JOIN act_months AS curr\n",
        "      ON prev.user_id = curr.user_id\n",
        "    AND prev.act_month = (curr.act_month - INTERVAL '1 MONTH'))\n",
        "  \n",
        "SELECT\n",
        "  churned_next_month,\n",
        "  ROUND(AVG(age), 2) AS avg_age\n",
        "FROM churned\n",
        "JOIN user_data ON churned.user_id = user_data.user_id\n",
        "WHERE act_month = '2020-04-01'\n",
        "GROUP BY churned_next_month;"
      ],
      "execution_count": 0,
      "outputs": []
    }
  ]
}